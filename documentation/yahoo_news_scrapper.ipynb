{
  "nbformat": 4,
  "nbformat_minor": 0,
  "metadata": {
    "colab": {
      "provenance": [],
      "toc_visible": true
    },
    "kernelspec": {
      "name": "python3",
      "display_name": "Python 3"
    },
    "language_info": {
      "name": "python"
    }
  },
  "cells": [
    {
      "cell_type": "code",
      "execution_count": null,
      "metadata": {
        "id": "8O96j3ZuDhPT"
      },
      "outputs": [],
      "source": [
        "!pip install requests --quiet\n",
        "!pip install beautifulsoup4 --quiet\n",
        "\n",
        "import requests\n",
        "from bs4 import BeautifulSoup"
      ]
    },
    {
      "cell_type": "code",
      "source": [
        "my_url = 'https://finance.yahoo.com/topic/latest-news/'\n",
        "response = requests.get(my_url)"
      ],
      "metadata": {
        "id": "9imtAdgpDh3X"
      },
      "execution_count": null,
      "outputs": []
    },
    {
      "cell_type": "code",
      "source": [
        "print(\"response.ok : {} , response.status_code : {}\".format(response.ok , response.status_code))"
      ],
      "metadata": {
        "colab": {
          "base_uri": "https://localhost:8080/"
        },
        "id": "uem-uD7TDmj-",
        "outputId": "576b5566-2866-4a5a-86d7-d3e89da0d3d9"
      },
      "execution_count": null,
      "outputs": [
        {
          "output_type": "stream",
          "name": "stdout",
          "text": [
            "response.ok : True , response.status_code : 200\n"
          ]
        }
      ]
    },
    {
      "cell_type": "code",
      "source": [
        "print(\"Preview of response.text : \", response.text[:500])\n"
      ],
      "metadata": {
        "colab": {
          "base_uri": "https://localhost:8080/"
        },
        "id": "jio-v4xeDoIq",
        "outputId": "1ec6c81c-85c9-4bf7-9412-4f53b805ec72"
      },
      "execution_count": null,
      "outputs": [
        {
          "output_type": "stream",
          "name": "stdout",
          "text": [
            "Preview of response.text :  <!doctype html><html data-color-theme=\"light\" id=\"atomic\" class=\"NoJs chrome desktop failsafe\" lang=\"en-US\"><head prefix=\"og: https://ogp.me/ns#\"><script>window.performance && window.performance.mark && window.performance.mark('PageStart');</script><meta charset=\"utf-8\"><title>Latest News</title><meta name=\"keywords\" content=\"401k, Business, Financial Information, Investing, Investor, Market News, Stock Research, Stock Valuation, business news, economy, finance, investment tools, mortgage, mutua\n"
          ]
        }
      ]
    },
    {
      "cell_type": "code",
      "source": [
        "def get_page(url):\n",
        "    \"\"\"Download a webpage and return a beautiful soup doc\"\"\"\n",
        "    response = requests.get(url)\n",
        "    if not response.ok:\n",
        "        print('Status code:', response.status_code)\n",
        "        raise Exception('Failed to load page {}'.format(url))\n",
        "    page_content = response.text\n",
        "    doc = BeautifulSoup(page_content, 'html.parser')\n",
        "    return doc"
      ],
      "metadata": {
        "id": "81bG42OADpZO"
      },
      "execution_count": null,
      "outputs": []
    },
    {
      "cell_type": "code",
      "source": [
        "doc = get_page(my_url)\n",
        "print('Type of doc: ',type(doc))"
      ],
      "metadata": {
        "colab": {
          "base_uri": "https://localhost:8080/"
        },
        "id": "mQ79jRyEDt12",
        "outputId": "7f733c84-90dc-4941-8e4d-1c5957717943"
      },
      "execution_count": null,
      "outputs": [
        {
          "output_type": "stream",
          "name": "stdout",
          "text": [
            "Type of doc:  <class 'bs4.BeautifulSoup'>\n"
          ]
        }
      ]
    },
    {
      "cell_type": "code",
      "source": [
        "doc.find('title')"
      ],
      "metadata": {
        "colab": {
          "base_uri": "https://localhost:8080/"
        },
        "id": "OfrsrrXZDvyW",
        "outputId": "01b9a0e3-1689-4720-fd5d-7c7de283de2a"
      },
      "execution_count": null,
      "outputs": [
        {
          "output_type": "execute_result",
          "data": {
            "text/plain": [
              "<title>Latest News</title>"
            ]
          },
          "metadata": {},
          "execution_count": 7
        }
      ]
    },
    {
      "cell_type": "code",
      "source": [
        "div_tags = doc.find_all('div', {'class': \"Ov(h) Pend(44px) Pstart(25px)\"})"
      ],
      "metadata": {
        "id": "f_mCHWLiDxVs"
      },
      "execution_count": null,
      "outputs": []
    },
    {
      "cell_type": "code",
      "source": [
        "len(div_tags)"
      ],
      "metadata": {
        "colab": {
          "base_uri": "https://localhost:8080/"
        },
        "id": "5VuP6pxmD3V2",
        "outputId": "adc0c0a3-0881-45bb-a467-ca1367a192ad"
      },
      "execution_count": null,
      "outputs": [
        {
          "output_type": "execute_result",
          "data": {
            "text/plain": [
              "7"
            ]
          },
          "metadata": {},
          "execution_count": 9
        }
      ]
    },
    {
      "cell_type": "code",
      "source": [
        "print(div_tags[1])\n"
      ],
      "metadata": {
        "colab": {
          "base_uri": "https://localhost:8080/"
        },
        "id": "kegZZzmuECZN",
        "outputId": "32794edc-bbd2-4613-e130-e31e67097c3a"
      },
      "execution_count": null,
      "outputs": [
        {
          "output_type": "stream",
          "name": "stdout",
          "text": [
            "<div class=\"Ov(h) Pend(44px) Pstart(25px)\"><div class=\"C(#959595) Fz(11px) D(ib) Mb(6px)\">Reuters</div><h3 class=\"Mb(5px)\"><a class=\"Fw(b) Fz(18px) Lh(23px) LineClamp(2,46px) Fz(17px)--sm1024 Lh(19px)--sm1024 LineClamp(2,38px)--sm1024 mega-item-header-link Td(n) C(#0078ff):h C(#000) LineClamp(2,46px) LineClamp(2,38px)--sm1024 not-isInStreamVideoEnabled\" href=\"https://finance.yahoo.com/news/us-private-payrolls-beat-expectations-122528857.html\"><u class=\"StretchedBox\"></u>US private payrolls beat expectations in April</a></h3><p class=\"Fz(14px) Lh(19px) Fz(13px)--sm1024 Lh(17px)--sm1024 LineClamp(2,38px) LineClamp(2,34px)--sm1024 M(0)\">U.S. private payrolls increased more than expected in April while data for the prior month was revised higher, a report showed on Wednesday.  Private payrolls increased by 192,000 jobs last month after rising by an upwardly revised 208,000 in March, the ADP Employment report showed.  Economists polled by Reuters had forecast private employment increasing by 175,000 last month compared to the previously reported 184,000 in March.</p></div>\n"
          ]
        }
      ]
    },
    {
      "cell_type": "code",
      "source": [
        "print(\"Source: \", div_tags[1].find('div').text)\n",
        "print(\"Head Line : {}\".format(div_tags[1].find('a').text))"
      ],
      "metadata": {
        "colab": {
          "base_uri": "https://localhost:8080/"
        },
        "id": "XtfUpdE5EXqt",
        "outputId": "561737a6-e156-4ec1-fc44-85ae96967420"
      },
      "execution_count": null,
      "outputs": [
        {
          "output_type": "stream",
          "name": "stdout",
          "text": [
            "Source:  Reuters\n",
            "Head Line : US private payrolls beat expectations in April\n"
          ]
        }
      ]
    },
    {
      "cell_type": "code",
      "source": [
        "def get_news_tags(doc):\n",
        "    \"\"\"Get the list of tags containing news information\"\"\"\n",
        "    news_class = \"Ov(h) Pend(44px) Pstart(25px)\" ## class name of div tag\n",
        "    news_list  = doc.find_all('div', {'class': news_class})\n",
        "    return news_list"
      ],
      "metadata": {
        "id": "VIsxhHK8EaZO"
      },
      "execution_count": null,
      "outputs": []
    },
    {
      "cell_type": "code",
      "source": [
        "my_news_tags = get_news_tags(doc)"
      ],
      "metadata": {
        "id": "DbIfKh3OEdnh"
      },
      "execution_count": null,
      "outputs": []
    },
    {
      "cell_type": "code",
      "source": [
        "BASE_URL = 'https://finance.yahoo.com' #Global Variable\n",
        "\n",
        "def parse_news(news_tag):\n",
        "    \"\"\"Get the news data point and return dictionary\"\"\"\n",
        "    news_source = news_tag.find('div').text #source\n",
        "    news_headline = news_tag.find('a').text #heading\n",
        "    news_url = news_tag.find('a')['href'] #link\n",
        "    news_content = news_tag.find('p').text #content\n",
        "    return { 'source' : news_source,\n",
        "            'headline' : news_headline,\n",
        "            'url' : BASE_URL + news_url,\n",
        "            'content' : news_content,\n",
        "           }"
      ],
      "metadata": {
        "id": "C0hfL5lJEfM9"
      },
      "execution_count": null,
      "outputs": []
    },
    {
      "cell_type": "code",
      "source": [
        "for i in my_news_tags:\n",
        "  print(parse_news(i))"
      ],
      "metadata": {
        "colab": {
          "base_uri": "https://localhost:8080/"
        },
        "id": "4Bbyy60WEgXB",
        "outputId": "495d3b81-9685-4eaf-f813-b8c227300852"
      },
      "execution_count": null,
      "outputs": [
        {
          "output_type": "stream",
          "name": "stdout",
          "text": [
            "{'source': 'TheStreet', 'headline': 'Analysts revise AMD price targets as stock hit by muted AI sales forecast', 'url': 'https://finance.yahoo.comhttps://finance.yahoo.com/news/analysts-revise-amd-price-targets-122726267.html', 'content': \"AMD's new MI300X processor is expected to challenge Nvidia's AI market dominance.\"}\n",
            "{'source': 'Reuters', 'headline': 'US private payrolls beat expectations in April', 'url': 'https://finance.yahoo.comhttps://finance.yahoo.com/news/us-private-payrolls-beat-expectations-122528857.html', 'content': 'U.S. private payrolls increased more than expected in April while data for the prior month was revised higher, a report showed on Wednesday.  Private payrolls increased by 192,000 jobs last month after rising by an upwardly revised 208,000 in March, the ADP Employment report showed.  Economists polled by Reuters had forecast private employment increasing by 175,000 last month compared to the previously reported 184,000 in March.'}\n",
            "{'source': 'Associated Press Finance', 'headline': 'CVS Health chops 2024 forecast as cost struggles with Medicare Advantage persist', 'url': 'https://finance.yahoo.comhttps://finance.yahoo.com/news/cvs-health-chops-2024-forecast-121540213.html', 'content': 'CVS Health missed first-quarter expectations and chopped its 2024 outlook more than a dollar below Wall Street’s forecast.  Shares of the health care giant plunged Wednesday morning after the company said it was still struggling with rising costs from care use in its Medicare Advantage business.  Medicare Advantage plans are privately run versions of the federal government’s Medicare program for people age 65 and older.'}\n",
            "{'source': 'Bloomberg', 'headline': 'US, Philippines Eye Agreement to Cut China Nickel Dominance', 'url': 'https://finance.yahoo.comhttps://finance.yahoo.com/news/us-philippines-eye-partnership-cut-032345548.html', 'content': '(Bloomberg) -- The U.S. and the Philippines are in discussions over ways to prevent China from dominating nickel processing in the Southeast Asian nation, a key supplier of the metal that’s crucial for electric vehicle batteries. Most Read from BloombergTesla Axes Supercharger Team in Blow to Broader EV MarketNYC Police Break Up Columbia Protest and Clashes Erupt at UCLAAmazon Posts Strongest Cloud Sales Growth in a Year on AI DemandPot Stocks Surge on Report DEA Set to Reclassify MarijuanaLilly'}\n",
            "{'source': 'Reuters', 'headline': 'Starbucks shares tumble as China, US demand slowdown clouds outlook', 'url': 'https://finance.yahoo.comhttps://finance.yahoo.com/news/starbucks-shares-tumble-china-us-120559280.html', 'content': 'Several quarters of price hikes have forced customers to ditch cafes and restaurants and instead drink coffee at home, hurting business for chains such as Starbucks.  \"The inability to stop the traffic leakage from the early signs of pull-back in November to date and the worsening macro and competitive dynamics in China may suggest prolonged challenges and no evidence of light at the end of the tunnel,\" Danilo Gargiulo, senior analyst at Bernstein, wrote in a note.  The company expects its full-year comparable sales — both globally and in the U.S. — to be in the range of a low single-digit decline to flat, compared with its previous range of 4% to 6% growth.'}\n",
            "{'source': 'FreightWaves', 'headline': 'Atlanta set to host FreightWaves Future of Supply Chain conference', 'url': 'https://finance.yahoo.comhttps://finance.yahoo.com/news/atlanta-set-host-freightwaves-future-120000905.html', 'content': 'The third annual FreightWaves Future of Supply Chain conference will be held at the Georgia International Convention Center in Atlanta June 4-5. The post Atlanta set to host FreightWaves Future of Supply Chain conference appeared first on FreightWaves.'}\n",
            "{'source': 'Bloomberg', 'headline': 'Peloton to Put Bikes in 800 Hyatt Hotels in Turnaround Effort', 'url': 'https://finance.yahoo.comhttps://finance.yahoo.com/news/peloton-put-bikes-800-hyatt-120000089.html', 'content': '(Bloomberg) -- Peloton Interactive Inc. announced an agreement to outfit Hyatt Hotels Corp. properties with its equipment, marking the latest attempt to revive growth at the struggling fitness company. Most Read from BloombergTesla Axes Supercharger Team in Blow to Broader EV MarketNYC Police Break Up Columbia Protest and Clashes Erupt at UCLAAmazon Posts Strongest Cloud Sales Growth in a Year on AI DemandPot Stocks Surge on Report DEA Set to Reclassify MarijuanaLilly Soars as Forecast Boost Sho'}\n"
          ]
        }
      ]
    },
    {
      "cell_type": "code",
      "source": [],
      "metadata": {
        "id": "CeAg1VDbEiFt"
      },
      "execution_count": null,
      "outputs": []
    }
  ]
}